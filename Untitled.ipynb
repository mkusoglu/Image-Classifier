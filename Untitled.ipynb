{
 "cells": [
  {
   "cell_type": "code",
   "execution_count": 1,
   "metadata": {},
   "outputs": [],
   "source": [
    "from keras import layers\n",
    "from keras import models\n",
    "from keras.datasets import mnist\n",
    "from keras.utils import to_categorical\n",
    "from keras.utils import np_utils\n",
    "from keras import losses\n",
    "from keras.datasets import cifar100\n",
    "import pandas as pd\n",
    "import numpy as np\n",
    "import matplotlib.pyplot as plt\n",
    "from sklearn.utils import shuffle\n",
    "(x_train,y_train),(x_test,y_test)=cifar100.load_data()\n",
    "\n",
    "\n",
    "index = np.where(y_train == 23)\n",
    "X_train = x_train[index[0]]\n",
    "Y_train = y_train[index[0]]\n",
    "\n",
    "index1 = np.where(y_train == 24)\n",
    "X1_train = x_train[index1[0]]\n",
    "Y1_train = y_train[index1[0]]\n",
    "\n",
    "index2 = np.where(y_train == 37)\n",
    "X2_train = x_train[index2[0]]\n",
    "Y2_train = y_train[index2[0]]\n",
    "\n",
    "index3 = np.where(y_train == 40)\n",
    "X3_train = x_train[index3[0]]\n",
    "Y3_train = y_train[index3[0]]\n",
    "\n",
    "index4 = np.where(y_train == 80)\n",
    "X4_train = x_train[index4[0]]\n",
    "Y4_train = y_train[index4[0]]\n",
    "#\n",
    "index5 = np.where(y_test == 23)\n",
    "X_test = x_test[index5[0]]\n",
    "Y_test = y_test[index5[0]]\n",
    "\n",
    "index6 = np.where(y_test == 24)\n",
    "X1_test = x_test[index6[0]]\n",
    "Y1_test = y_test[index6[0]]\n",
    "\n",
    "index7 = np.where(y_test == 37)\n",
    "X2_test = x_test[index7[0]]\n",
    "Y2_test = y_test[index7[0]]\n",
    "\n",
    "index8 = np.where(y_test == 40)\n",
    "X3_test = x_test[index8[0]]\n",
    "Y3_test = y_test[index8[0]]\n",
    "\n",
    "index9= np.where(y_test == 80)\n",
    "X4_test = x_test[index9[0]]\n",
    "Y4_test = y_test[index9[0]]\n",
    "\n",
    "r=np.concatenate((X_train, X1_train), axis=0)\n",
    "r=np.concatenate((r, X2_train), axis=0)\n",
    "r=np.concatenate((r, X3_train), axis=0)\n",
    "r=np.concatenate((r, X4_train), axis=0)\n",
    "\n",
    "r2=np.concatenate((Y_train, Y1_train), axis=0)\n",
    "r2=np.concatenate((r2, Y2_train), axis=0)\n",
    "r2=np.concatenate((r2, Y3_train), axis=0)\n",
    "r2=np.concatenate((r2, Y4_train), axis=0)\n",
    "\n",
    "r3=np.concatenate((X_test, X1_test), axis=0)\n",
    "r3=np.concatenate((r3, X2_test), axis=0)\n",
    "r3=np.concatenate((r3, X3_test), axis=0)\n",
    "r3=np.concatenate((r3, X4_test), axis=0)\n",
    "\n",
    "r4=np.concatenate((Y_test, Y1_test), axis=0)\n",
    "r4=np.concatenate((r4, Y2_test), axis=0)\n",
    "r4=np.concatenate((r4, Y3_test), axis=0)\n",
    "r4=np.concatenate((r4, Y4_test), axis=0)\n",
    "\n",
    "x_train=r\n",
    "y_train=r2\n",
    "x_test=r3\n",
    "y_test=r4\n",
    "\n",
    "x_train=x_train / 255.0\n",
    "x_test=x_test/255.0\n",
    "\n",
    "\n",
    "y_train=np.where(y_train==23, 1, y_train)\n",
    "y_train=np.where(y_train==24, 2, y_train)\n",
    "y_train=np.where(y_train==37, 3, y_train)\n",
    "y_train=np.where(y_train==40, 4, y_train)\n",
    "y_train=np.where(y_train==80, 5, y_train)\n",
    "\n",
    "y_train = to_categorical(y_train)\n",
    "y_train=np.delete(y_train,0,1)\n"
   ]
  },
  {
   "cell_type": "code",
   "execution_count": 2,
   "metadata": {},
   "outputs": [
    {
     "data": {
      "text/plain": [
       "array([[1., 0., 0., 0., 0.],\n",
       "       [1., 0., 0., 0., 0.],\n",
       "       [1., 0., 0., 0., 0.],\n",
       "       ...,\n",
       "       [0., 0., 0., 0., 1.],\n",
       "       [0., 0., 0., 0., 1.],\n",
       "       [0., 0., 0., 0., 1.]], dtype=float32)"
      ]
     },
     "execution_count": 2,
     "metadata": {},
     "output_type": "execute_result"
    }
   ],
   "source": [
    "y_train"
   ]
  },
  {
   "cell_type": "code",
   "execution_count": 3,
   "metadata": {},
   "outputs": [
    {
     "data": {
      "text/plain": [
       "array([1., 0., 0., 0., 0.], dtype=float32)"
      ]
     },
     "execution_count": 3,
     "metadata": {},
     "output_type": "execute_result"
    }
   ],
   "source": [
    "y_train[0]"
   ]
  },
  {
   "cell_type": "code",
   "execution_count": 5,
   "metadata": {},
   "outputs": [
    {
     "data": {
      "text/plain": [
       "array([0., 1., 0., 0., 0.], dtype=float32)"
      ]
     },
     "execution_count": 5,
     "metadata": {},
     "output_type": "execute_result"
    }
   ],
   "source": [
    "y_train[550]"
   ]
  },
  {
   "cell_type": "code",
   "execution_count": 6,
   "metadata": {},
   "outputs": [
    {
     "data": {
      "text/plain": [
       "array([0., 0., 1., 0., 0.], dtype=float32)"
      ]
     },
     "execution_count": 6,
     "metadata": {},
     "output_type": "execute_result"
    }
   ],
   "source": [
    "y_train[1050]"
   ]
  },
  {
   "cell_type": "code",
   "execution_count": 7,
   "metadata": {},
   "outputs": [
    {
     "data": {
      "text/plain": [
       "array([0., 0., 0., 1., 0.], dtype=float32)"
      ]
     },
     "execution_count": 7,
     "metadata": {},
     "output_type": "execute_result"
    }
   ],
   "source": [
    "y_train[1550]"
   ]
  },
  {
   "cell_type": "code",
   "execution_count": 8,
   "metadata": {},
   "outputs": [
    {
     "data": {
      "text/plain": [
       "array([0., 0., 0., 0., 1.], dtype=float32)"
      ]
     },
     "execution_count": 8,
     "metadata": {},
     "output_type": "execute_result"
    }
   ],
   "source": [
    "y_train[2050]"
   ]
  },
  {
   "cell_type": "code",
   "execution_count": null,
   "metadata": {},
   "outputs": [],
   "source": []
  }
 ],
 "metadata": {
  "kernelspec": {
   "display_name": "Python 3",
   "language": "python",
   "name": "python3"
  },
  "language_info": {
   "codemirror_mode": {
    "name": "ipython",
    "version": 3
   },
   "file_extension": ".py",
   "mimetype": "text/x-python",
   "name": "python",
   "nbconvert_exporter": "python",
   "pygments_lexer": "ipython3",
   "version": "3.7.6"
  }
 },
 "nbformat": 4,
 "nbformat_minor": 4
}
